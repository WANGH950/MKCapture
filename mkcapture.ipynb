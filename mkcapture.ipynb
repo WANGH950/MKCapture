{
 "cells": [
  {
   "cell_type": "code",
   "execution_count": null,
   "id": "032a1b16",
   "metadata": {},
   "outputs": [],
   "source": [
    "import torch\n",
    "from spherebsde import nn, utils\n",
    "device = torch.device('cuda:0')"
   ]
  },
  {
   "cell_type": "code",
   "execution_count": 2,
   "id": "e2868a2c",
   "metadata": {},
   "outputs": [],
   "source": [
    "rmin = 10\n",
    "rmax = 100\n",
    "R = 0.5\n",
    "N = 100\n",
    "rtip = 0.05\n",
    "a = 0.05\n",
    "c1 = 5\n",
    "c2 = 0.1\n",
    "kbar = 4\n",
    "x0 = torch.tensor([0,0,R]).float().to(device)\n",
    "\n",
    "def u0(r,x,y):\n",
    "    x_polar = utils.polar_corr(x)\n",
    "    thetab = torch.arccos(r.unsqueeze(1)*8/1000/2/R)\n",
    "    return (x_polar[:,:1]<thetab)/(1-r.unsqueeze(1)*8/1000/2/R)*(r.unsqueeze(1)<=50)*(y[:,-1:] > R)\n",
    "\n",
    "def xb(r,x,y):\n",
    "    x_polar = utils.polar_corr(x)\n",
    "    in_ornotx = x_polar[:,0] < torch.arccos(r*8/1000/2/R)\n",
    "    xb_ = x_polar.clone()\n",
    "    xb_[:,0] = torch.arccos(r*8/1000/2/R)\n",
    "    xb_ = utils.transform_x(xb_)\n",
    "    nb_ = torch.cat([xb_[:,:1]*xb_[:,2:],xb_[:,1:2]*xb_[:,2:],-xb_[:,:2].norm(dim=1,keepdim=True)**2],dim=1)\n",
    "    nb_ = nb_ / nb_.norm(dim=1,keepdim=True)\n",
    "    in_ornoty = (y-x0).norm(dim=1) < R\n",
    "    yb = (y-x0) / (y-x0).norm(dim=1,keepdim=True) * R + x0\n",
    "    nby = yb - x0\n",
    "    nby = nby / nby.norm(dim=1,keepdim=True)\n",
    "    return xb_, nb_, in_ornotx, yb, nby, in_ornoty\n",
    "\n",
    "def capture(r,x,y):\n",
    "    ynorm = y.norm(dim=1)\n",
    "    gamm = torch.arccos((x*y).sum(dim=1)/ynorm)\n",
    "    r = r*8/1000\n",
    "    tip = r-y.norm(dim=1)*torch.cos(gamm)\n",
    "    return (tip >= 0)*(tip <= rtip)*((ynorm*torch.sin(gamm)) <= a)\n",
    "\n",
    "def data_gen(batch):\n",
    "    r = torch.randint(40,41,[batch]).to(device)\n",
    "    x = torch.tensor([0,0,1.],device=device).expand([batch,3]).clone()\n",
    "    y = torch.tensor([0,0,0.6],device=device).expand([batch,3]).clone()\n",
    "    return r, x, y\n",
    "\n",
    "def lamb(r,k,c1,kbar):\n",
    "    return c1*torch.exp(-(k-kbar).abs())*(r>=rmin)*(r<=rmax)*(k>0)*(k<=(rmax-r))\n",
    "\n",
    "def mu(r,k,c2,kbar):\n",
    "    return c2*r*torch.exp(-(k-kbar).abs())*(r>=rmin)*(r<=rmax)*(k>0)*(k<=(r-rmin))\n",
    "\n",
    "spherebsde = nn.MKCapture(\n",
    "    rmin = rmin,\n",
    "    rmax = rmax,\n",
    "    lamb = lambda r,k:lamb(r,k,c1,kbar),\n",
    "    mu = lambda r,k:mu(r,k,c2,kbar),\n",
    "    u0 = u0,\n",
    "    t = torch.tensor(0.1).to(device),\n",
    "    Dx = torch.tensor(50.).to(device),\n",
    "    Dy = torch.tensor(1.).to(device),\n",
    "    data_gen = data_gen,\n",
    "    N = 100,\n",
    "    xb = xb,\n",
    "    capture = capture,\n",
    "    mc_size = 10**4,\n",
    "    P = 128\n",
    ").to(device)"
   ]
  },
  {
   "cell_type": "code",
   "execution_count": 3,
   "id": "e8ffd350",
   "metadata": {},
   "outputs": [
    {
     "name": "stdout",
     "output_type": "stream",
     "text": [
      "10000/10000|##################################################|17319.06s  [Loss: 9.111197e-02, Result: 0.811610] \n",
      "Training has been completed.\n"
     ]
    }
   ],
   "source": [
    "train_params = {\n",
    "    'epoch': 10**4,\n",
    "    'batch': 512,\n",
    "    'lr': 1e-3\n",
    "}\n",
    "\n",
    "loss_values, res_values = nn.train(\n",
    "    spherebsde,\n",
    "    train_params,\n",
    "    True\n",
    ")"
   ]
  }
 ],
 "metadata": {
  "kernelspec": {
   "display_name": "torch",
   "language": "python",
   "name": "python3"
  },
  "language_info": {
   "codemirror_mode": {
    "name": "ipython",
    "version": 3
   },
   "file_extension": ".py",
   "mimetype": "text/x-python",
   "name": "python",
   "nbconvert_exporter": "python",
   "pygments_lexer": "ipython3",
   "version": "3.13.5"
  }
 },
 "nbformat": 4,
 "nbformat_minor": 5
}
